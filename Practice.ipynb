{
  "nbformat": 4,
  "nbformat_minor": 0,
  "metadata": {
    "colab": {
      "provenance": [],
      "authorship_tag": "ABX9TyPFwd50IRWAlFTZNNOcU5Jb",
      "include_colab_link": true
    },
    "kernelspec": {
      "name": "python3",
      "display_name": "Python 3"
    },
    "language_info": {
      "name": "python"
    }
  },
  "cells": [
    {
      "cell_type": "markdown",
      "metadata": {
        "id": "view-in-github",
        "colab_type": "text"
      },
      "source": [
        "<a href=\"https://colab.research.google.com/github/SanthoshKasam2104/ScalerAssignments/blob/main/Practice.ipynb\" target=\"_parent\"><img src=\"https://colab.research.google.com/assets/colab-badge.svg\" alt=\"Open In Colab\"/></a>"
      ]
    },
    {
      "cell_type": "code",
      "execution_count": null,
      "metadata": {
        "id": "Sz7s14I5lYPp"
      },
      "outputs": [],
      "source": [
        "actual_password = \"Hello\"\n",
        "given_password = input(\"Enter Password\")\n",
        "if given_password == actual_password:\n",
        "    print(\"Password is correct\")\n",
        "else:\n",
        "    print(\"Password is incorrect\")"
      ]
    },
    {
      "cell_type": "code",
      "source": [
        "ip_num = int(input())\n",
        "num = 1\n",
        "while num<=ip_num:\n",
        "  print(num)\n",
        "  num += 2"
      ],
      "metadata": {
        "id": "tkzOhxcedQl9",
        "outputId": "f3ae5842-8818-4ba2-99b6-1386c64c6bd8",
        "colab": {
          "base_uri": "https://localhost:8080/"
        }
      },
      "execution_count": 2,
      "outputs": [
        {
          "output_type": "stream",
          "name": "stdout",
          "text": [
            "12\n",
            "1\n",
            "3\n",
            "5\n",
            "7\n",
            "9\n",
            "11\n"
          ]
        }
      ]
    }
  ]
}