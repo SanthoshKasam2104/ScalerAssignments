{
  "nbformat": 4,
  "nbformat_minor": 0,
  "metadata": {
    "colab": {
      "provenance": [],
      "authorship_tag": "ABX9TyPxNE1VM0Lvv2kmHFTNdAgZ",
      "include_colab_link": true
    },
    "kernelspec": {
      "name": "python3",
      "display_name": "Python 3"
    },
    "language_info": {
      "name": "python"
    }
  },
  "cells": [
    {
      "cell_type": "markdown",
      "metadata": {
        "id": "view-in-github",
        "colab_type": "text"
      },
      "source": [
        "<a href=\"https://colab.research.google.com/github/SanthoshKasam2104/ScalerAssignments/blob/main/Practice.ipynb\" target=\"_parent\"><img src=\"https://colab.research.google.com/assets/colab-badge.svg\" alt=\"Open In Colab\"/></a>"
      ]
    },
    {
      "cell_type": "code",
      "execution_count": null,
      "metadata": {
        "id": "Sz7s14I5lYPp"
      },
      "outputs": [],
      "source": [
        "actual_password = \"Hello\"\n",
        "given_password = input(\"Enter Password\")\n",
        "if given_password == actual_password:\n",
        "    print(\"Password is correct\")\n",
        "else:\n",
        "    print(\"Password is incorrect\")"
      ]
    },
    {
      "cell_type": "code",
      "source": [
        "ip_num = int(input())\n",
        "num = 1\n",
        "while num<=ip_num:\n",
        "  print(num)\n",
        "  num += 2"
      ],
      "metadata": {
        "colab": {
          "base_uri": "https://localhost:8080/"
        },
        "id": "tkzOhxcedQl9",
        "outputId": "f3ae5842-8818-4ba2-99b6-1386c64c6bd8"
      },
      "execution_count": null,
      "outputs": [
        {
          "output_type": "stream",
          "name": "stdout",
          "text": [
            "12\n",
            "1\n",
            "3\n",
            "5\n",
            "7\n",
            "9\n",
            "11\n"
          ]
        }
      ]
    },
    {
      "cell_type": "code",
      "source": [
        "start = int(input())\n",
        "end = int(input())\n",
        "\n",
        "while start <= end:\n",
        "  if start%2 == 0:\n",
        "    print(start)\n",
        "  start += 1"
      ],
      "metadata": {
        "id": "PdWhJ2V2eB3h",
        "outputId": "f208ca5c-3f28-4d53-e804-b5e68b1a648e",
        "colab": {
          "base_uri": "https://localhost:8080/"
        }
      },
      "execution_count": null,
      "outputs": [
        {
          "output_type": "stream",
          "name": "stdout",
          "text": [
            "2\n",
            "10\n",
            "2\n",
            "4\n",
            "6\n",
            "8\n",
            "10\n"
          ]
        }
      ]
    },
    {
      "cell_type": "code",
      "source": [
        "start = int(input())\n",
        "end = int(input())\n",
        "\n",
        "if start % 2 != 0:\n",
        "  start += 1\n",
        "\n",
        "while start <= end:\n",
        "  print(start)\n",
        "  start += 2\n"
      ],
      "metadata": {
        "id": "ruEJ2zMMf7yd",
        "outputId": "c6600a8b-a660-4660-d427-d85d2a18335a",
        "colab": {
          "base_uri": "https://localhost:8080/"
        }
      },
      "execution_count": null,
      "outputs": [
        {
          "output_type": "stream",
          "name": "stdout",
          "text": [
            "1\n",
            "15\n",
            "2\n",
            "4\n",
            "6\n",
            "8\n",
            "10\n",
            "12\n",
            "14\n"
          ]
        }
      ]
    },
    {
      "cell_type": "code",
      "source": [
        "start = int(input())\n",
        "end = int(input())\n",
        "if start % 2 != 1:\n",
        "  start += 1\n",
        "\n",
        "for i in range(start,end+1,2):\n",
        "  print(i, end = \" \")"
      ],
      "metadata": {
        "id": "nNqLGIZimiry",
        "outputId": "9dc7a8d6-185d-4086-dfc9-29c8759d7b62",
        "colab": {
          "base_uri": "https://localhost:8080/"
        }
      },
      "execution_count": null,
      "outputs": [
        {
          "output_type": "stream",
          "name": "stdout",
          "text": [
            "2\n",
            "15\n",
            "3 5 7 9 11 13 15 "
          ]
        }
      ]
    },
    {
      "cell_type": "code",
      "source": [
        "N = int(input())\n",
        "\n",
        "for i in range(-1*N,0):\n",
        "  print(-1*i)"
      ],
      "metadata": {
        "id": "mBbOESFlor8I",
        "outputId": "700fcc40-065d-4607-d65b-3768927b6dc4",
        "colab": {
          "base_uri": "https://localhost:8080/"
        }
      },
      "execution_count": null,
      "outputs": [
        {
          "output_type": "stream",
          "name": "stdout",
          "text": [
            "9\n",
            "9\n",
            "8\n",
            "7\n",
            "6\n",
            "5\n",
            "4\n",
            "3\n",
            "2\n",
            "1\n"
          ]
        }
      ]
    },
    {
      "cell_type": "code",
      "source": [
        "for i in range(1,10,2):\n",
        "  print(i, end = \", \")\n"
      ],
      "metadata": {
        "id": "hYW5Fdmt4bT3",
        "outputId": "895cf36c-b5a6-44f6-b746-36dc93c6c829",
        "colab": {
          "base_uri": "https://localhost:8080/"
        }
      },
      "execution_count": 2,
      "outputs": [
        {
          "output_type": "stream",
          "name": "stdout",
          "text": [
            "1, 3, 5, 7, 9, "
          ]
        }
      ]
    },
    {
      "cell_type": "code",
      "source": [
        "cnt = 0\n",
        "while True:\n",
        "  cnt +=1\n",
        "  n = int(input())\n",
        "  if n == 5:\n",
        "    break\n",
        "print(cnt)"
      ],
      "metadata": {
        "id": "aAtt28jk8dS7",
        "outputId": "bb270b2b-cb11-4baf-b0cb-d9898436cd8b",
        "colab": {
          "base_uri": "https://localhost:8080/"
        }
      },
      "execution_count": 3,
      "outputs": [
        {
          "output_type": "stream",
          "name": "stdout",
          "text": [
            "8\n",
            "9\n",
            "7\n",
            "3\n",
            "4\n",
            "5\n",
            "6\n"
          ]
        }
      ]
    },
    {
      "cell_type": "code",
      "source": [
        "for i in range(5):\n",
        "  for j in range(i+1):\n",
        "    if j == i:\n",
        "      print(\"*\")\n",
        "    else:\n",
        "      print(\"*\",end = \" \")"
      ],
      "metadata": {
        "id": "UszALGqd_clh",
        "outputId": "15fe4d3e-9a39-4039-96d5-1a569550c572",
        "colab": {
          "base_uri": "https://localhost:8080/"
        }
      },
      "execution_count": 6,
      "outputs": [
        {
          "output_type": "stream",
          "name": "stdout",
          "text": [
            "*\n",
            "* *\n",
            "* * *\n",
            "* * * *\n",
            "* * * * *\n"
          ]
        }
      ]
    },
    {
      "cell_type": "code",
      "source": [
        "n = 10\n",
        "for i in range(1,n+1):\n",
        "  for j in range(1,n+1):\n",
        "    print(j*i, end = \" \")\n",
        "  print()"
      ],
      "metadata": {
        "id": "XDqFtRZkBAON",
        "outputId": "7b36fa9d-6db2-41fa-bf73-45b0d177886d",
        "colab": {
          "base_uri": "https://localhost:8080/"
        }
      },
      "execution_count": 9,
      "outputs": [
        {
          "output_type": "stream",
          "name": "stdout",
          "text": [
            "1 2 3 4 5 6 7 8 9 10 \n",
            "2 4 6 8 10 12 14 16 18 20 \n",
            "3 6 9 12 15 18 21 24 27 30 \n",
            "4 8 12 16 20 24 28 32 36 40 \n",
            "5 10 15 20 25 30 35 40 45 50 \n",
            "6 12 18 24 30 36 42 48 54 60 \n",
            "7 14 21 28 35 42 49 56 63 70 \n",
            "8 16 24 32 40 48 56 64 72 80 \n",
            "9 18 27 36 45 54 63 72 81 90 \n",
            "10 20 30 40 50 60 70 80 90 100 \n"
          ]
        }
      ]
    },
    {
      "cell_type": "code",
      "source": [
        "T = int(input())\n",
        "for i in range(T):\n",
        "    N = int(input())\n",
        "    rev = 0\n",
        "    cnt = 0\n",
        "    while N//10 != 0:\n",
        "        cnt += 1\n",
        "        rev =rev + (10**cnt) *(N%10)\n",
        "        N %= 10\n",
        "    rev += N%10\n",
        "    print(rev)"
      ],
      "metadata": {
        "id": "yfPn0DykdfzW",
        "outputId": "4be73708-1d88-43ab-cd74-fc6381ed5b31",
        "colab": {
          "base_uri": "https://localhost:8080/",
          "height": 295
        }
      },
      "execution_count": 11,
      "outputs": [
        {
          "name": "stdout",
          "output_type": "stream",
          "text": [
            "2\n",
            "243\n",
            "33\n",
            "345t\n"
          ]
        },
        {
          "output_type": "error",
          "ename": "ValueError",
          "evalue": "invalid literal for int() with base 10: '345t'",
          "traceback": [
            "\u001b[0;31m---------------------------------------------------------------------------\u001b[0m",
            "\u001b[0;31mValueError\u001b[0m                                Traceback (most recent call last)",
            "\u001b[0;32m<ipython-input-11-c8acf5d6f5ac>\u001b[0m in \u001b[0;36m<cell line: 0>\u001b[0;34m()\u001b[0m\n\u001b[1;32m      1\u001b[0m \u001b[0mT\u001b[0m \u001b[0;34m=\u001b[0m \u001b[0mint\u001b[0m\u001b[0;34m(\u001b[0m\u001b[0minput\u001b[0m\u001b[0;34m(\u001b[0m\u001b[0;34m)\u001b[0m\u001b[0;34m)\u001b[0m\u001b[0;34m\u001b[0m\u001b[0;34m\u001b[0m\u001b[0m\n\u001b[1;32m      2\u001b[0m \u001b[0;32mfor\u001b[0m \u001b[0mi\u001b[0m \u001b[0;32min\u001b[0m \u001b[0mrange\u001b[0m\u001b[0;34m(\u001b[0m\u001b[0mT\u001b[0m\u001b[0;34m)\u001b[0m\u001b[0;34m:\u001b[0m\u001b[0;34m\u001b[0m\u001b[0;34m\u001b[0m\u001b[0m\n\u001b[0;32m----> 3\u001b[0;31m     \u001b[0mN\u001b[0m \u001b[0;34m=\u001b[0m \u001b[0mint\u001b[0m\u001b[0;34m(\u001b[0m\u001b[0minput\u001b[0m\u001b[0;34m(\u001b[0m\u001b[0;34m)\u001b[0m\u001b[0;34m)\u001b[0m\u001b[0;34m\u001b[0m\u001b[0;34m\u001b[0m\u001b[0m\n\u001b[0m\u001b[1;32m      4\u001b[0m     \u001b[0mrev\u001b[0m \u001b[0;34m=\u001b[0m \u001b[0;36m0\u001b[0m\u001b[0;34m\u001b[0m\u001b[0;34m\u001b[0m\u001b[0m\n\u001b[1;32m      5\u001b[0m     \u001b[0mcnt\u001b[0m \u001b[0;34m=\u001b[0m \u001b[0;36m0\u001b[0m\u001b[0;34m\u001b[0m\u001b[0;34m\u001b[0m\u001b[0m\n",
            "\u001b[0;31mValueError\u001b[0m: invalid literal for int() with base 10: '345t'"
          ]
        }
      ]
    },
    {
      "cell_type": "code",
      "source": [
        "N = int(input())\n",
        "rev = 0\n",
        "cnt = -1\n",
        "while N//10 != 0:\n",
        "  cnt += 1\n",
        "  rev = (10**cnt) *rev + (N%10)\n",
        "  N //= 10\n",
        "rev = (10**cnt) *rev + (N%10)\n",
        "print(rev)"
      ],
      "metadata": {
        "id": "BJYLGEz5eH3k",
        "outputId": "eb13482c-1186-4b82-efa8-0de11f8f60af",
        "colab": {
          "base_uri": "https://localhost:8080/"
        }
      },
      "execution_count": 17,
      "outputs": [
        {
          "output_type": "stream",
          "name": "stdout",
          "text": [
            "434661\n",
            "160600400030004\n"
          ]
        }
      ]
    },
    {
      "cell_type": "code",
      "source": [
        "T = int(input())\n",
        "for i in range(T):\n",
        "  N1 = int(input())\n",
        "  N2 = int(input())\n",
        "  x = min(N1,N2)\n",
        "  flag = 0\n",
        "  Final = 0\n",
        "  for j in range(x,0,-1):\n",
        "    if N1%x == 0 and N2%x == 0 and flag == 0:\n",
        "        Final = j\n",
        "        flag = 1\n",
        "  print(Final)"
      ],
      "metadata": {
        "id": "BCHObNMgk1S_",
        "outputId": "19af68e6-9c5f-489f-e32d-988245daa8f4",
        "colab": {
          "base_uri": "https://localhost:8080/"
        }
      },
      "execution_count": 18,
      "outputs": [
        {
          "output_type": "stream",
          "name": "stdout",
          "text": [
            "3\n",
            "15\n",
            "30\n",
            "15\n",
            "24\n",
            "36\n",
            "0\n",
            "3328\n",
            "9373\n",
            "0\n"
          ]
        }
      ]
    },
    {
      "cell_type": "code",
      "source": [
        "36%4"
      ],
      "metadata": {
        "id": "y020XlI_mPRT",
        "outputId": "94618e5f-5187-400a-9082-b887ac040b8f",
        "colab": {
          "base_uri": "https://localhost:8080/"
        }
      },
      "execution_count": 20,
      "outputs": [
        {
          "output_type": "execute_result",
          "data": {
            "text/plain": [
              "0"
            ]
          },
          "metadata": {},
          "execution_count": 20
        }
      ]
    }
  ]
}