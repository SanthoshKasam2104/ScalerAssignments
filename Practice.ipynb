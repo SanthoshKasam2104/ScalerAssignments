{
  "nbformat": 4,
  "nbformat_minor": 0,
  "metadata": {
    "colab": {
      "provenance": [],
      "authorship_tag": "ABX9TyNl4szye4VSXZ/f8IOvB613",
      "include_colab_link": true
    },
    "kernelspec": {
      "name": "python3",
      "display_name": "Python 3"
    },
    "language_info": {
      "name": "python"
    }
  },
  "cells": [
    {
      "cell_type": "markdown",
      "metadata": {
        "id": "view-in-github",
        "colab_type": "text"
      },
      "source": [
        "<a href=\"https://colab.research.google.com/github/SanthoshKasam2104/ScalerAssignments/blob/main/Practice.ipynb\" target=\"_parent\"><img src=\"https://colab.research.google.com/assets/colab-badge.svg\" alt=\"Open In Colab\"/></a>"
      ]
    },
    {
      "cell_type": "code",
      "execution_count": null,
      "metadata": {
        "id": "Sz7s14I5lYPp"
      },
      "outputs": [],
      "source": [
        "actual_password = \"Hello\"\n",
        "given_password = input(\"Enter Password\")\n",
        "if given_password == actual_password:\n",
        "    print(\"Password is correct\")\n",
        "else:\n",
        "    print(\"Password is incorrect\")"
      ]
    },
    {
      "cell_type": "code",
      "source": [
        "ip_num = int(input())\n",
        "num = 1\n",
        "while num<=ip_num:\n",
        "  print(num)\n",
        "  num += 2"
      ],
      "metadata": {
        "colab": {
          "base_uri": "https://localhost:8080/"
        },
        "id": "tkzOhxcedQl9",
        "outputId": "f3ae5842-8818-4ba2-99b6-1386c64c6bd8"
      },
      "execution_count": 2,
      "outputs": [
        {
          "output_type": "stream",
          "name": "stdout",
          "text": [
            "12\n",
            "1\n",
            "3\n",
            "5\n",
            "7\n",
            "9\n",
            "11\n"
          ]
        }
      ]
    },
    {
      "cell_type": "code",
      "source": [
        "start = int(input())\n",
        "end = int(input())\n",
        "\n",
        "while start <= end:\n",
        "  if start%2 == 0:\n",
        "    print(start)\n",
        "  start += 1"
      ],
      "metadata": {
        "id": "PdWhJ2V2eB3h",
        "outputId": "f208ca5c-3f28-4d53-e804-b5e68b1a648e",
        "colab": {
          "base_uri": "https://localhost:8080/"
        }
      },
      "execution_count": 4,
      "outputs": [
        {
          "output_type": "stream",
          "name": "stdout",
          "text": [
            "2\n",
            "10\n",
            "2\n",
            "4\n",
            "6\n",
            "8\n",
            "10\n"
          ]
        }
      ]
    },
    {
      "cell_type": "code",
      "source": [
        "start = int(input())\n",
        "end = int(input())\n",
        "\n",
        "if start % 2 != 0:\n",
        "  start += 1\n",
        "\n",
        "while start <= end:\n",
        "  print(start)\n",
        "  start += 2\n"
      ],
      "metadata": {
        "id": "ruEJ2zMMf7yd",
        "outputId": "c6600a8b-a660-4660-d427-d85d2a18335a",
        "colab": {
          "base_uri": "https://localhost:8080/"
        }
      },
      "execution_count": 5,
      "outputs": [
        {
          "output_type": "stream",
          "name": "stdout",
          "text": [
            "1\n",
            "15\n",
            "2\n",
            "4\n",
            "6\n",
            "8\n",
            "10\n",
            "12\n",
            "14\n"
          ]
        }
      ]
    },
    {
      "cell_type": "code",
      "source": [
        "start = int(input())\n",
        "end = int(input())\n",
        "if start % 2 != 1:\n",
        "  start += 1\n",
        "\n",
        "for i in range(start,end+1,2):\n",
        "  print(i, end = \" \")"
      ],
      "metadata": {
        "id": "nNqLGIZimiry",
        "outputId": "9dc7a8d6-185d-4086-dfc9-29c8759d7b62",
        "colab": {
          "base_uri": "https://localhost:8080/"
        }
      },
      "execution_count": 9,
      "outputs": [
        {
          "output_type": "stream",
          "name": "stdout",
          "text": [
            "2\n",
            "15\n",
            "3 5 7 9 11 13 15 "
          ]
        }
      ]
    },
    {
      "cell_type": "code",
      "source": [
        "N = int(input())\n",
        "\n",
        "for i in range(-1*N,0):\n",
        "  print(-1*i)"
      ],
      "metadata": {
        "id": "mBbOESFlor8I",
        "outputId": "700fcc40-065d-4607-d65b-3768927b6dc4",
        "colab": {
          "base_uri": "https://localhost:8080/"
        }
      },
      "execution_count": 11,
      "outputs": [
        {
          "output_type": "stream",
          "name": "stdout",
          "text": [
            "9\n",
            "9\n",
            "8\n",
            "7\n",
            "6\n",
            "5\n",
            "4\n",
            "3\n",
            "2\n",
            "1\n"
          ]
        }
      ]
    }
  ]
}